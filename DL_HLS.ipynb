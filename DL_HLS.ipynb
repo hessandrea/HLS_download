{
  "nbformat": 4,
  "nbformat_minor": 0,
  "metadata": {
    "colab": {
      "name": "DL_HLS.ipynb",
      "provenance": [],
      "collapsed_sections": []
    },
    "kernelspec": {
      "name": "python3",
      "display_name": "Python 3"
    }
  },
  "cells": [
    {
      "cell_type": "markdown",
      "metadata": {
        "id": "Ox03VkSNCG1w"
      },
      "source": [
        ""
      ]
    },
    {
      "cell_type": "markdown",
      "metadata": {
        "id": "kAt5zpENB4b2"
      },
      "source": [
        "**Download HLS data to google drive folder**.\n",
        "\n",
        "This script will download data for the sensor, year, and satellite tile as defined by the user. \n",
        "\n",
        "This script is altered from https://benmack.github.io/nasa_hls/build/html/tutorials/Query_and_download_hls_datasets_with_nasa_hls.html\n"
      ]
    },
    {
      "cell_type": "code",
      "metadata": {
        "id": "dpEqvesZAKR3"
      },
      "source": [
        "### this does usually not have to be run. \n",
        "## However, if there are issues with \"import nasa_hls\", this step may be neccessary\n",
        "## This reloads modules automatically before entering the execution of code typed at the IPython prompt\n",
        "\n",
        "#%load_ext \n",
        "#%autoreload 2\n",
        "#import autoreload\n",
        "\n"
      ],
      "execution_count": null,
      "outputs": []
    },
    {
      "cell_type": "code",
      "metadata": {
        "id": "KT17hIOsAg52"
      },
      "source": [
        "#install and import nasa_hls package\n",
        "!pip install git+https://github.com/benmack/nasa_hls.git\n",
        "import nasa_hls\n"
      ],
      "execution_count": null,
      "outputs": []
    },
    {
      "cell_type": "code",
      "metadata": {
        "id": "QVJpOCCuAy0w"
      },
      "source": [
        "#shows all data available in the enire HLS dataset\n",
        "#only for inspection of the dataset, not necessary for data download\n",
        "\n",
        "available_tiles = nasa_hls.get_available_tiles_from_url()\n",
        "print(\"Total number of tiles: \", len(available_tiles))\n",
        "print(\"First tiles: \", available_tiles[:3])\n",
        "print(\"Last tiles: \", available_tiles[-3:])"
      ],
      "execution_count": null,
      "outputs": []
    },
    {
      "cell_type": "code",
      "metadata": {
        "id": "b-fFKOb5A9qN"
      },
      "source": [
        "#shows all data available for the the sensor product, year, and tiles defined by the user\n",
        "#only for inspection of the dataset, not necessary for data download\n",
        "\n",
        "urls_datasets = nasa_hls.get_available_datasets(products=[\"S30\", \"L30\"],\n",
        "                                                years=[2013],\n",
        "                                                tiles=[\"14SNE\", \"14SPE\"])\n",
        "print(\"Number of datasets: \", len(urls_datasets))\n",
        "print(\"First datasets:\\n -\", \"\\n - \".join(urls_datasets[:3]))\n",
        "print(\"Last datasets:\\n -\", \"\\n - \".join(urls_datasets[-3:]))"
      ],
      "execution_count": null,
      "outputs": []
    },
    {
      "cell_type": "code",
      "metadata": {
        "id": "Z7QM9eY0BOg2"
      },
      "source": [
        "# This box returns dataframe of data that will be downloaded\n",
        "# the user can select between \n",
        "#                             - products=[\"L30\"] for downloading Landsat, products=[\"S30\"] for downloading Sentinel2, or products=[\"S30\", \"L30\"] to download both at once\n",
        "#                             - years[2013] enter the year you want to download\n",
        "#                             - tiles[\"14SNE\"] or [\"14SNE\"] are the two tiles of the HLS data grid that cover OKC\n",
        "df_datasets = nasa_hls.get_available_datasets(products=[\"L30\"],\n",
        "                                              years=[2013],\n",
        "                                              tiles=[\"14SNE\"],\n",
        "                                              return_list=False)\n",
        "print(\"Number of datasets: \", df_datasets.shape[0])\n",
        "display(df_datasets.head(3))\n",
        "display(df_datasets.tail(3))"
      ],
      "execution_count": null,
      "outputs": []
    },
    {
      "cell_type": "code",
      "metadata": {
        "id": "PTYUPMCGJo6N"
      },
      "source": [
        "#authenticate google account and \"mount\" google drive folder, so that the script can prompt the download to the drive folder.\n",
        "#when this box is run, the user needs to click on the link displayed below this script box. \n",
        "#You will be directed to a site that displays an authentication code. \n",
        "#The authentication code needs to be copied and pasted into the blank field showing up under this box.\n",
        "\n",
        "from google.colab import drive\n",
        "drive.mount('/content/gdrive')"
      ],
      "execution_count": null,
      "outputs": []
    },
    {
      "cell_type": "code",
      "metadata": {
        "id": "qCfyY8Z6H0SF"
      },
      "source": [
        "### This is the part that will start the data download\n",
        "# The user needs to create a folder in their google drive and enter that folder path as distdir=\"...\"\n",
        "\n",
        "nasa_hls.download_batch(dstdir=\"gdrive/My Drive/HLS/\",\n",
        "                        datasets=df_datasets,\n",
        "                        version=\"v1.4\",\n",
        "                        overwrite=False)"
      ],
      "execution_count": null,
      "outputs": []
    }
  ]
}